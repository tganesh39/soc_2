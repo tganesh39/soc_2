{
 "cells": [
  {
   "cell_type": "code",
   "execution_count": 2,
   "id": "6ae11cb2",
   "metadata": {},
   "outputs": [
    {
     "data": {
      "text/plain": [
       "array([[1., 0., 0., 0., 0.],\n",
       "       [0., 1., 0., 0., 0.],\n",
       "       [0., 0., 1., 0., 0.],\n",
       "       [0., 0., 0., 1., 0.],\n",
       "       [0., 0., 0., 0., 1.]])"
      ]
     },
     "execution_count": 2,
     "metadata": {},
     "output_type": "execute_result"
    }
   ],
   "source": [
    "import numpy as np\n",
    "\n",
    "#identity matrix can be created using 2 functions\n",
    "#EYE()--> USED TTO DEFINE both user defined rows and coloumns\n",
    "#identity()-->used to define same number of rows and coloumns\n",
    "\n",
    "#syntax-->np.identity(5)-->5 is 5 rows and 5 coloumns\n",
    "#syntax-->np.eye(3,4)--> 3 rows and 4 coloumns\n",
    "\n",
    "\n",
    "np.eye(5)\n"
   ]
  },
  {
   "cell_type": "code",
   "execution_count": 5,
   "id": "f5f829a7",
   "metadata": {},
   "outputs": [
    {
     "data": {
      "text/plain": [
       "array([[1., 0., 0., 0.],\n",
       "       [0., 1., 0., 0.],\n",
       "       [0., 0., 1., 0.]])"
      ]
     },
     "execution_count": 5,
     "metadata": {},
     "output_type": "execute_result"
    }
   ],
   "source": [
    "np.eye(3,4)"
   ]
  },
  {
   "cell_type": "code",
   "execution_count": 35,
   "id": "98e187f1",
   "metadata": {},
   "outputs": [
    {
     "data": {
      "text/plain": [
       "array([ 0,  1,  2,  3,  4,  5,  6,  7,  8,  9, 10, 11, 12])"
      ]
     },
     "execution_count": 35,
     "metadata": {},
     "output_type": "execute_result"
    }
   ],
   "source": [
    "ar1"
   ]
  },
  {
   "cell_type": "code",
   "execution_count": 12,
   "id": "f2bdbfdd",
   "metadata": {},
   "outputs": [
    {
     "data": {
      "text/plain": [
       "array([[1.+0.j, 0.+0.j, 0.+0.j, 0.+0.j, 0.+0.j],\n",
       "       [0.+0.j, 1.+0.j, 0.+0.j, 0.+0.j, 0.+0.j],\n",
       "       [0.+0.j, 0.+0.j, 1.+0.j, 0.+0.j, 0.+0.j],\n",
       "       [0.+0.j, 0.+0.j, 0.+0.j, 1.+0.j, 0.+0.j],\n",
       "       [0.+0.j, 0.+0.j, 0.+0.j, 0.+0.j, 1.+0.j]])"
      ]
     },
     "execution_count": 12,
     "metadata": {},
     "output_type": "execute_result"
    }
   ],
   "source": [
    "np.identity(5, dtype=complex)"
   ]
  },
  {
   "cell_type": "code",
   "execution_count": 13,
   "id": "9ec49625",
   "metadata": {},
   "outputs": [],
   "source": [
    "ar1=np.arange(13)"
   ]
  },
  {
   "cell_type": "code",
   "execution_count": 14,
   "id": "3dabb180",
   "metadata": {},
   "outputs": [
    {
     "data": {
      "text/plain": [
       "13"
      ]
     },
     "execution_count": 14,
     "metadata": {},
     "output_type": "execute_result"
    }
   ],
   "source": [
    "ar1\n",
    "len(ar1)"
   ]
  },
  {
   "cell_type": "code",
   "execution_count": 15,
   "id": "acd7eb18",
   "metadata": {},
   "outputs": [],
   "source": [
    "reshaped_array=ar1.reshape(13,1)"
   ]
  },
  {
   "cell_type": "code",
   "execution_count": 16,
   "id": "4c41c0f1",
   "metadata": {},
   "outputs": [
    {
     "data": {
      "text/plain": [
       "array([[ 0],\n",
       "       [ 1],\n",
       "       [ 2],\n",
       "       [ 3],\n",
       "       [ 4],\n",
       "       [ 5],\n",
       "       [ 6],\n",
       "       [ 7],\n",
       "       [ 8],\n",
       "       [ 9],\n",
       "       [10],\n",
       "       [11],\n",
       "       [12]])"
      ]
     },
     "execution_count": 16,
     "metadata": {},
     "output_type": "execute_result"
    }
   ],
   "source": [
    "reshaped_array"
   ]
  },
  {
   "cell_type": "code",
   "execution_count": 17,
   "id": "dff03a92",
   "metadata": {},
   "outputs": [
    {
     "data": {
      "text/plain": [
       "array([ 0,  1,  2,  3,  4,  5,  6,  7,  8,  9, 10, 11, 12])"
      ]
     },
     "execution_count": 17,
     "metadata": {},
     "output_type": "execute_result"
    }
   ],
   "source": [
    "ar1"
   ]
  },
  {
   "cell_type": "code",
   "execution_count": 29,
   "id": "48d2dfb9",
   "metadata": {},
   "outputs": [
    {
     "data": {
      "text/plain": [
       "array([[ 1,  2,  3],\n",
       "       [ 6,  7,  8],\n",
       "       [11, 12, 13]])"
      ]
     },
     "execution_count": 29,
     "metadata": {},
     "output_type": "execute_result"
    }
   ],
   "source": [
    "#To perform multidimensional slicing\n",
    "ar2=np.arange(25).reshape(5,5)\n",
    "#ar2[rows,coloumns,step]\n",
    "#ar2[row_start:row_end,col_start,col_end,step]\n",
    "ar2[0:3,1:4]\n",
    "\n"
   ]
  },
  {
   "cell_type": "code",
   "execution_count": 23,
   "id": "49a005ad",
   "metadata": {},
   "outputs": [
    {
     "data": {
      "text/plain": [
       "array([[ 0,  1,  2,  3,  4],\n",
       "       [ 5,  6,  7,  8,  9],\n",
       "       [10, 11, 12, 13, 14],\n",
       "       [15, 16, 17, 18, 19],\n",
       "       [20, 21, 22, 23, 24]])"
      ]
     },
     "execution_count": 23,
     "metadata": {},
     "output_type": "execute_result"
    }
   ],
   "source": [
    "ar2"
   ]
  },
  {
   "cell_type": "code",
   "execution_count": 24,
   "id": "cf906c61",
   "metadata": {},
   "outputs": [
    {
     "data": {
      "text/plain": [
       "(5, 5)"
      ]
     },
     "execution_count": 24,
     "metadata": {},
     "output_type": "execute_result"
    }
   ],
   "source": [
    "ar2.shape"
   ]
  },
  {
   "cell_type": "code",
   "execution_count": 25,
   "id": "d68420ff",
   "metadata": {},
   "outputs": [
    {
     "data": {
      "text/plain": [
       "array([[ 0,  1,  2,  3,  4],\n",
       "       [ 5,  6,  7,  8,  9],\n",
       "       [10, 11, 12, 13, 14],\n",
       "       [15, 16, 17, 18, 19],\n",
       "       [20, 21, 22, 23, 24]])"
      ]
     },
     "execution_count": 25,
     "metadata": {},
     "output_type": "execute_result"
    }
   ],
   "source": [
    "ar2"
   ]
  },
  {
   "cell_type": "code",
   "execution_count": 27,
   "id": "6b774963",
   "metadata": {},
   "outputs": [
    {
     "data": {
      "text/plain": [
       "array([[ 1,  2,  3],\n",
       "       [ 6,  7,  8],\n",
       "       [11, 12, 13]])"
      ]
     },
     "execution_count": 27,
     "metadata": {},
     "output_type": "execute_result"
    }
   ],
   "source": [
    "\n",
    "ar2[0:3,1:4]"
   ]
  },
  {
   "cell_type": "code",
   "execution_count": 28,
   "id": "f1137062",
   "metadata": {},
   "outputs": [
    {
     "data": {
      "text/plain": [
       "array([[ 5,  6,  7,  8,  9],\n",
       "       [10, 11, 12, 13, 14]])"
      ]
     },
     "execution_count": 28,
     "metadata": {},
     "output_type": "execute_result"
    }
   ],
   "source": [
    "ar2[1:3]"
   ]
  },
  {
   "cell_type": "code",
   "execution_count": 30,
   "id": "d3fbcda6",
   "metadata": {},
   "outputs": [
    {
     "data": {
      "text/plain": [
       "array([[ 6,  7],\n",
       "       [11, 12]])"
      ]
     },
     "execution_count": 30,
     "metadata": {},
     "output_type": "execute_result"
    }
   ],
   "source": [
    "ar2[1:3,1:3]"
   ]
  },
  {
   "cell_type": "code",
   "execution_count": 32,
   "id": "bd9651b6",
   "metadata": {},
   "outputs": [
    {
     "data": {
      "text/plain": [
       "array([], shape=(0, 2), dtype=int32)"
      ]
     },
     "execution_count": 32,
     "metadata": {},
     "output_type": "execute_result"
    }
   ],
   "source": [
    "ar2[-1:-4,1:3]"
   ]
  },
  {
   "cell_type": "code",
   "execution_count": 33,
   "id": "3decc351",
   "metadata": {},
   "outputs": [
    {
     "data": {
      "text/plain": [
       "array([[ 5,  6,  7,  8,  9],\n",
       "       [10, 11, 12, 13, 14]])"
      ]
     },
     "execution_count": 33,
     "metadata": {},
     "output_type": "execute_result"
    }
   ],
   "source": [
    "ar2[1:-2]"
   ]
  },
  {
   "cell_type": "code",
   "execution_count": 34,
   "id": "55e495c2",
   "metadata": {},
   "outputs": [
    {
     "data": {
      "text/plain": [
       "array([18])"
      ]
     },
     "execution_count": 34,
     "metadata": {},
     "output_type": "execute_result"
    }
   ],
   "source": [
    "ar2[3:4,-2]"
   ]
  },
  {
   "cell_type": "code",
   "execution_count": 36,
   "id": "97e7724d",
   "metadata": {},
   "outputs": [
    {
     "data": {
      "text/plain": [
       "array([[ 5,  6,  7,  8,  9],\n",
       "       [10, 11, 12, 13, 14],\n",
       "       [15, 16, 17, 18, 19]])"
      ]
     },
     "execution_count": 36,
     "metadata": {},
     "output_type": "execute_result"
    }
   ],
   "source": [
    "ar2[-4:4]"
   ]
  },
  {
   "cell_type": "code",
   "execution_count": 39,
   "id": "27669cb2",
   "metadata": {},
   "outputs": [
    {
     "data": {
      "text/plain": [
       "array([ 7, 12])"
      ]
     },
     "execution_count": 39,
     "metadata": {},
     "output_type": "execute_result"
    }
   ],
   "source": [
    "ar2[-4:-2,]"
   ]
  },
  {
   "cell_type": "code",
   "execution_count": 40,
   "id": "39129ac2",
   "metadata": {},
   "outputs": [
    {
     "data": {
      "text/plain": [
       "array([ 7, 12])"
      ]
     },
     "execution_count": 40,
     "metadata": {},
     "output_type": "execute_result"
    }
   ],
   "source": [
    "ar2[-4:-2,-3]\n"
   ]
  },
  {
   "cell_type": "code",
   "execution_count": 41,
   "id": "fe40e5b3",
   "metadata": {},
   "outputs": [
    {
     "data": {
      "text/plain": [
       "array([[ 6,  7],\n",
       "       [11, 12]])"
      ]
     },
     "execution_count": 41,
     "metadata": {},
     "output_type": "execute_result"
    }
   ],
   "source": [
    "ar2[-4:-2,-4:-2]"
   ]
  },
  {
   "cell_type": "code",
   "execution_count": 43,
   "id": "39e87672",
   "metadata": {},
   "outputs": [
    {
     "data": {
      "text/plain": [
       "array([[ 0,  1,  2,  3,  4,  5,  6,  7,  8,  9],\n",
       "       [10, 11, 12, 13, 14, 15, 16, 17, 18, 19],\n",
       "       [20, 21, 22, 23, 24, 25, 26, 27, 28, 29],\n",
       "       [30, 31, 32, 33, 34, 35, 36, 37, 38, 39],\n",
       "       [40, 41, 42, 43, 44, 45, 46, 47, 48, 49]])"
      ]
     },
     "execution_count": 43,
     "metadata": {},
     "output_type": "execute_result"
    }
   ],
   "source": [
    "#print\n",
    "#print\n",
    "#print\n",
    "\n",
    "\n",
    "\n",
    "ar3=np.arange(50).reshape(5,10)\n",
    "ar3"
   ]
  },
  {
   "cell_type": "code",
   "execution_count": 48,
   "id": "d50978b7",
   "metadata": {},
   "outputs": [
    {
     "data": {
      "text/plain": [
       "array([100, 105, 110, 115, 120, 125, 130, 135, 140, 145])"
      ]
     },
     "execution_count": 48,
     "metadata": {},
     "output_type": "execute_result"
    }
   ],
   "source": [
    "#linspace()\n",
    "\n",
    "\n",
    "np.sum(ar3,axis=0)# to add based on coloumns wise axis=0\n",
    "np.sum(ar3,axis=0)# to add based on rows wise axis=1\n"
   ]
  },
  {
   "cell_type": "code",
   "execution_count": 46,
   "id": "a08276d4",
   "metadata": {},
   "outputs": [
    {
     "data": {
      "text/plain": [
       "array([100, 105, 110, 115, 120, 125, 130, 135, 140, 145])"
      ]
     },
     "execution_count": 46,
     "metadata": {},
     "output_type": "execute_result"
    }
   ],
   "source": [
    "np.sum(ar3,axis=0)# to add based on coloumns wise axis=0"
   ]
  },
  {
   "cell_type": "code",
   "execution_count": 47,
   "id": "47dd9eeb",
   "metadata": {},
   "outputs": [
    {
     "data": {
      "text/plain": [
       "1225"
      ]
     },
     "execution_count": 47,
     "metadata": {},
     "output_type": "execute_result"
    }
   ],
   "source": [
    "np.sum(ar3)"
   ]
  },
  {
   "cell_type": "code",
   "execution_count": null,
   "id": "e6d41999",
   "metadata": {},
   "outputs": [],
   "source": [
    "mean-->average\n",
    "median-->center value\n",
    "mode-->max num of repeated element\n",
    "variance-->medain/total num of elements\n",
    "std--> square root of varaince"
   ]
  },
  {
   "cell_type": "code",
   "execution_count": 49,
   "id": "da833999",
   "metadata": {},
   "outputs": [
    {
     "data": {
      "text/plain": [
       "array([1.        , 1.08163265, 1.16326531, 1.24489796, 1.32653061,\n",
       "       1.40816327, 1.48979592, 1.57142857, 1.65306122, 1.73469388,\n",
       "       1.81632653, 1.89795918, 1.97959184, 2.06122449, 2.14285714,\n",
       "       2.2244898 , 2.30612245, 2.3877551 , 2.46938776, 2.55102041,\n",
       "       2.63265306, 2.71428571, 2.79591837, 2.87755102, 2.95918367,\n",
       "       3.04081633, 3.12244898, 3.20408163, 3.28571429, 3.36734694,\n",
       "       3.44897959, 3.53061224, 3.6122449 , 3.69387755, 3.7755102 ,\n",
       "       3.85714286, 3.93877551, 4.02040816, 4.10204082, 4.18367347,\n",
       "       4.26530612, 4.34693878, 4.42857143, 4.51020408, 4.59183673,\n",
       "       4.67346939, 4.75510204, 4.83673469, 4.91836735, 5.        ])"
      ]
     },
     "execution_count": 49,
     "metadata": {},
     "output_type": "execute_result"
    }
   ],
   "source": [
    "#linspace()\n",
    "np.linspace(1,5)\n"
   ]
  },
  {
   "cell_type": "code",
   "execution_count": 50,
   "id": "d8373466",
   "metadata": {},
   "outputs": [
    {
     "data": {
      "text/plain": [
       "array([10.        ,  9.89795918,  9.79591837,  9.69387755,  9.59183673,\n",
       "        9.48979592,  9.3877551 ,  9.28571429,  9.18367347,  9.08163265,\n",
       "        8.97959184,  8.87755102,  8.7755102 ,  8.67346939,  8.57142857,\n",
       "        8.46938776,  8.36734694,  8.26530612,  8.16326531,  8.06122449,\n",
       "        7.95918367,  7.85714286,  7.75510204,  7.65306122,  7.55102041,\n",
       "        7.44897959,  7.34693878,  7.24489796,  7.14285714,  7.04081633,\n",
       "        6.93877551,  6.83673469,  6.73469388,  6.63265306,  6.53061224,\n",
       "        6.42857143,  6.32653061,  6.2244898 ,  6.12244898,  6.02040816,\n",
       "        5.91836735,  5.81632653,  5.71428571,  5.6122449 ,  5.51020408,\n",
       "        5.40816327,  5.30612245,  5.20408163,  5.10204082,  5.        ])"
      ]
     },
     "execution_count": 50,
     "metadata": {},
     "output_type": "execute_result"
    }
   ],
   "source": [
    "#linspace()\n",
    "np.linspace(10,5)"
   ]
  },
  {
   "cell_type": "code",
   "execution_count": 51,
   "id": "585b7ef8",
   "metadata": {},
   "outputs": [
    {
     "data": {
      "text/plain": [
       "array([ 1.,  4.,  7., 10.])"
      ]
     },
     "execution_count": 51,
     "metadata": {},
     "output_type": "execute_result"
    }
   ],
   "source": [
    "#linspace()\n",
    "#it is used to print th  eventy seperated pointed\n",
    "#b/w 2 range of values\n",
    "np.linspace(1,10,4,dtype=int)#-->linspace(strut,end,num of values)"
   ]
  },
  {
   "cell_type": "code",
   "execution_count": 52,
   "id": "5aea0249",
   "metadata": {},
   "outputs": [
    {
     "data": {
      "text/plain": [
       "(array([12.        , 13.63636364, 15.27272727, 16.90909091, 18.54545455,\n",
       "        20.18181818, 21.81818182, 23.45454545, 25.09090909, 26.72727273,\n",
       "        28.36363636, 30.        ]),\n",
       " 1.6363636363636365)"
      ]
     },
     "execution_count": 52,
     "metadata": {},
     "output_type": "execute_result"
    }
   ],
   "source": [
    "np.linspace(12,30,12,retstep=True)"
   ]
  },
  {
   "cell_type": "code",
   "execution_count": 56,
   "id": "927868d2",
   "metadata": {},
   "outputs": [
    {
     "data": {
      "text/plain": [
       "20"
      ]
     },
     "execution_count": 56,
     "metadata": {},
     "output_type": "execute_result"
    }
   ],
   "source": [
    "#random module\n",
    "#to generate random number between the range\n",
    "\n",
    "#np.random.randint(start,end, num_of_values)\n",
    "#np.random.randint(40)\n",
    "#or\n",
    "np.random.randint(20,30)"
   ]
  },
  {
   "cell_type": "code",
   "execution_count": 58,
   "id": "d0be4b32",
   "metadata": {},
   "outputs": [
    {
     "data": {
      "text/plain": [
       "array([39, 33, 38])"
      ]
     },
     "execution_count": 58,
     "metadata": {},
     "output_type": "execute_result"
    }
   ],
   "source": [
    "np.random.randint(30,40,3)"
   ]
  },
  {
   "cell_type": "code",
   "execution_count": 62,
   "id": "fcd5f440",
   "metadata": {},
   "outputs": [
    {
     "data": {
      "text/plain": [
       "array([0.47623116, 0.54043179, 0.87146877, 0.95097829, 0.64014713,\n",
       "       0.43839227, 0.74453992, 0.96625965, 0.66571141, 0.10657694])"
      ]
     },
     "execution_count": 62,
     "metadata": {},
     "output_type": "execute_result"
    }
   ],
   "source": [
    "#rand()-->\n",
    "#to get the randomly generated values from 0 to 1,based on\n",
    "#uniform distribution\n",
    "\n",
    "np.random.rand(10)"
   ]
  },
  {
   "cell_type": "code",
   "execution_count": 66,
   "id": "91ecfe5e",
   "metadata": {},
   "outputs": [
    {
     "data": {
      "text/plain": [
       "array([[-1.19002006, -0.57726987, -0.00374348,  0.84895273],\n",
       "       [-0.13326033, -2.37185021, -0.37397185,  0.29584675],\n",
       "       [ 0.44292277, -0.75872948,  0.09706727,  0.53409459],\n",
       "       [ 1.65711304,  0.51777809, -0.25311058,  1.46528941],\n",
       "       [-0.34511595,  0.23222551, -0.16137507,  0.18336333]])"
      ]
     },
     "execution_count": 66,
     "metadata": {},
     "output_type": "execute_result"
    }
   ],
   "source": [
    "#rand()-->\n",
    "#to get the randomly generated values from 0 to 1,based on\n",
    "#normal distribution\n",
    "\n",
    "np.random.randn(5,4)"
   ]
  },
  {
   "cell_type": "code",
   "execution_count": 71,
   "id": "01b36920",
   "metadata": {},
   "outputs": [
    {
     "data": {
      "text/plain": [
       "array([[ 0,  1,  2,  3,  4,  5,  6,  7,  8,  9],\n",
       "       [10, 11, 12, 13, 14, 15, 16, 17, 18, 19],\n",
       "       [20, 21, 22, 23, 24, 25, 26, 27, 28, 29],\n",
       "       [30, 31, 32, 33, 34, 35, 36, 37, 38, 39],\n",
       "       [40, 41, 42, 43, 44, 45, 46, 47, 48, 49]])"
      ]
     },
     "execution_count": 71,
     "metadata": {},
     "output_type": "execute_result"
    }
   ],
   "source": [
    "ar3"
   ]
  },
  {
   "cell_type": "code",
   "execution_count": 67,
   "id": "b5899553",
   "metadata": {},
   "outputs": [
    {
     "data": {
      "text/plain": [
       "0"
      ]
     },
     "execution_count": 67,
     "metadata": {},
     "output_type": "execute_result"
    }
   ],
   "source": [
    "ar3.min()"
   ]
  },
  {
   "cell_type": "code",
   "execution_count": 68,
   "id": "a4e76af9",
   "metadata": {},
   "outputs": [
    {
     "data": {
      "text/plain": [
       "49"
      ]
     },
     "execution_count": 68,
     "metadata": {},
     "output_type": "execute_result"
    }
   ],
   "source": [
    "ar3.max()"
   ]
  },
  {
   "cell_type": "code",
   "execution_count": 69,
   "id": "a33647fd",
   "metadata": {},
   "outputs": [
    {
     "name": "stdout",
     "output_type": "stream",
     "text": [
      "3\n"
     ]
    }
   ],
   "source": [
    "#to find the index of min values\n",
    "l1=[56,89,90,67,45]\n",
    "np1=np.array(l1)\n",
    "print(l1.index(67))"
   ]
  },
  {
   "cell_type": "code",
   "execution_count": 70,
   "id": "ab4c0be1",
   "metadata": {},
   "outputs": [
    {
     "name": "stdout",
     "output_type": "stream",
     "text": [
      "[[0, 1, 2, 3, 4, 5, 6, 7, 8, 9], [10, 11, 12, 13, 14, 15, 16, 17, 18, 19], [20, 21, 22, 23, 24, 25, 26, 27, 28, 29], [30, 31, 32, 33, 34, 35, 36, 37, 38, 39], [40, 41, 42, 43, 44, 45, 46, 47, 48, 49]]\n"
     ]
    }
   ],
   "source": [
    "print(ar3.tolist())"
   ]
  },
  {
   "cell_type": "code",
   "execution_count": 74,
   "id": "78706263",
   "metadata": {},
   "outputs": [
    {
     "name": "stdout",
     "output_type": "stream",
     "text": [
      "4\n",
      "2\n"
     ]
    }
   ],
   "source": [
    "l1=[56,89,90,67,45]\n",
    "np1=np.array(l1)\n",
    "#argmin()--> to find the min values index position in an array\n",
    "print(np1.argmin()) \n",
    "#argmax()-->to find the max values index position in an array\n",
    "print(np1.argmax())"
   ]
  },
  {
   "cell_type": "code",
   "execution_count": 75,
   "id": "559c54b0",
   "metadata": {},
   "outputs": [
    {
     "data": {
      "text/plain": [
       "array([56, 89, 90, 67, 45])"
      ]
     },
     "execution_count": 75,
     "metadata": {},
     "output_type": "execute_result"
    }
   ],
   "source": [
    "np1\n"
   ]
  },
  {
   "cell_type": "code",
   "execution_count": 76,
   "id": "cdce9f21",
   "metadata": {},
   "outputs": [
    {
     "data": {
      "text/plain": [
       "array([-0.521551  ,  0.86006941,  0.89399666, -0.85551998,  0.85090352])"
      ]
     },
     "execution_count": 76,
     "metadata": {},
     "output_type": "execute_result"
    }
   ],
   "source": [
    "np.sin(np1)"
   ]
  },
  {
   "cell_type": "code",
   "execution_count": 77,
   "id": "21ef74cc",
   "metadata": {},
   "outputs": [
    {
     "data": {
      "text/plain": [
       "array([-0.61127369,  1.68582537, -1.99520041,  1.65231726,  1.61977519])"
      ]
     },
     "execution_count": 77,
     "metadata": {},
     "output_type": "execute_result"
    }
   ],
   "source": [
    "np.cos(np1)\n",
    "np.tan(np1)"
   ]
  },
  {
   "cell_type": "code",
   "execution_count": 78,
   "id": "e09f5e0d",
   "metadata": {},
   "outputs": [
    {
     "data": {
      "text/plain": [
       "array([-1.91735803,  1.16269686,  1.11857241, -1.16887977,  1.17522136])"
      ]
     },
     "execution_count": 78,
     "metadata": {},
     "output_type": "execute_result"
    }
   ],
   "source": [
    "1/np.sin(np1)"
   ]
  },
  {
   "cell_type": "code",
   "execution_count": 79,
   "id": "3f36f6de",
   "metadata": {},
   "outputs": [
    {
     "data": {
      "text/plain": [
       "array([ 0.33166911,  1.37024645,  0.44592305, -1.37328978,  1.37622551])"
      ]
     },
     "execution_count": 79,
     "metadata": {},
     "output_type": "execute_result"
    }
   ],
   "source": [
    "np.cos(np1)+np.sin(np1)"
   ]
  },
  {
   "cell_type": "code",
   "execution_count": 80,
   "id": "f2fa34ee",
   "metadata": {},
   "outputs": [
    {
     "data": {
      "text/plain": [
       "array([-1.63592842,  0.59318125, -0.50120278,  0.60521065,  0.61736962])"
      ]
     },
     "execution_count": 80,
     "metadata": {},
     "output_type": "execute_result"
    }
   ],
   "source": [
    "np.cos(np1)/np.sin(np1)"
   ]
  },
  {
   "cell_type": "code",
   "execution_count": 84,
   "id": "27d49a28",
   "metadata": {},
   "outputs": [
    {
     "name": "stdout",
     "output_type": "stream",
     "text": [
      "32\n"
     ]
    }
   ],
   "source": [
    "#Task:1--> write python code for the below logic\n",
    "np2=np.array([1,2,3])\n",
    "np3=np.array([4,5,6])\n",
    "#(1*4)+(2*5)+(3*6)=4+10+18-->32\n",
    "a1=np2[0]*np3[0]\n",
    "a2=np2[1]*np3[1]\n",
    "a3=np2[2]*np3[2]\n",
    "print(a1+a2+a3)"
   ]
  },
  {
   "cell_type": "code",
   "execution_count": 91,
   "id": "d593d980",
   "metadata": {},
   "outputs": [
    {
     "name": "stdout",
     "output_type": "stream",
     "text": [
      "41\n",
      "[ 4 10 18  0]\n"
     ]
    }
   ],
   "source": [
    "np2=np.array([1,2,3,9])\n",
    "np3=np.array([4,5,6,0])\n",
    "#(1*4)+(2*5)+(3*6)=4+10+18-->32\n",
    "a1=np2[0]*np3[0]\n",
    "a2=np2[1]*np3[1]\n",
    "a3=np2[2]*np3[2]\n",
    "a4=np2[3]*1\n",
    "print(a1+a2+a3+a4)\n",
    "print(np2*np3)"
   ]
  },
  {
   "cell_type": "code",
   "execution_count": 118,
   "id": "9df3a752",
   "metadata": {},
   "outputs": [
    {
     "name": "stdout",
     "output_type": "stream",
     "text": [
      "['sid' 'fn1' 'fn2' 'T' 'ln1' 'ln2']\n"
     ]
    }
   ],
   "source": [
    "np2=np.array([1,2,3])\n",
    "np3=np.array([4,5,6])\n",
    "#(1*4)+(2*5)+(3*6)=4+10+18-->32\n",
    "#np2*np3\n",
    "\n",
    "\n",
    "fname=np.array([\"sid\",\"fn1\",\"fn2\"])\n",
    "lname=np.array([\"T\",\"ln1\",\"ln2\"])\n",
    "# fname.tostring()\n",
    "fname\n",
    "lname\n",
    "#string concatenation\n",
    "print(np.append(fname,lname))"
   ]
  },
  {
   "cell_type": "code",
   "execution_count": 105,
   "id": "fa61307c",
   "metadata": {},
   "outputs": [
    {
     "data": {
      "text/plain": [
       "array(['T', 'ln1', 'ln2'], dtype='<U3')"
      ]
     },
     "execution_count": 105,
     "metadata": {},
     "output_type": "execute_result"
    }
   ],
   "source": [
    "lname"
   ]
  },
  {
   "cell_type": "code",
   "execution_count": 110,
   "id": "f4e22479",
   "metadata": {},
   "outputs": [
    {
     "data": {
      "text/plain": [
       "3"
      ]
     },
     "execution_count": 110,
     "metadata": {},
     "output_type": "execute_result"
    }
   ],
   "source": [
    "len1=len(np2)"
   ]
  },
  {
   "cell_type": "code",
   "execution_count": 111,
   "id": "d6953f81",
   "metadata": {},
   "outputs": [
    {
     "data": {
      "text/plain": [
       "3"
      ]
     },
     "execution_count": 111,
     "metadata": {},
     "output_type": "execute_result"
    }
   ],
   "source": [
    "len2=len(np3)"
   ]
  },
  {
   "cell_type": "code",
   "execution_count": 119,
   "id": "6c857da8",
   "metadata": {},
   "outputs": [
    {
     "data": {
      "text/plain": [
       "32"
      ]
     },
     "execution_count": 119,
     "metadata": {},
     "output_type": "execute_result"
    }
   ],
   "source": [
    "np2=np.array([1,2,3])\n",
    "np3=np.array([4,5,6])\n",
    "\n",
    "len1=len(np2)\n",
    "len2=len(np3)\n",
    "\n",
    "diff=abs(len1-len2)\n",
    "for val in range(diff):\n",
    "    np3=np.append(np3,1)\n",
    "    \n",
    "np.sum((np2*np3))\n",
    "    "
   ]
  },
  {
   "cell_type": "code",
   "execution_count": 121,
   "id": "fe8d2bca",
   "metadata": {},
   "outputs": [],
   "source": [
    "np1=np.array([1,34,56,78,np.nan,np.nan])"
   ]
  },
  {
   "cell_type": "code",
   "execution_count": 122,
   "id": "00fa565d",
   "metadata": {},
   "outputs": [
    {
     "data": {
      "text/plain": [
       "array([nan, nan])"
      ]
     },
     "execution_count": 122,
     "metadata": {},
     "output_type": "execute_result"
    }
   ],
   "source": [
    "#To print nan values\n",
    "np1[np.isnan(np1)]"
   ]
  },
  {
   "cell_type": "code",
   "execution_count": 123,
   "id": "5b0c7532",
   "metadata": {},
   "outputs": [
    {
     "data": {
      "text/plain": [
       "array([ 1., 34., 56., 78.])"
      ]
     },
     "execution_count": 123,
     "metadata": {},
     "output_type": "execute_result"
    }
   ],
   "source": [
    "#to elminate nan values\n",
    "np1[~np.isnan(np1)]"
   ]
  },
  {
   "cell_type": "code",
   "execution_count": 125,
   "id": "e1ef9d61",
   "metadata": {},
   "outputs": [
    {
     "data": {
      "text/plain": [
       "32"
      ]
     },
     "execution_count": 125,
     "metadata": {},
     "output_type": "execute_result"
    }
   ],
   "source": [
    "#to print multiplitaction of corresponding index values and add all producted values\n",
    "np2=np.array([1,2,3])\n",
    "np3=np.array([4,5,6])\n",
    "np.dot(np2,np3)\n"
   ]
  },
  {
   "cell_type": "code",
   "execution_count": 127,
   "id": "bd637813",
   "metadata": {},
   "outputs": [],
   "source": [
    "#pandas module\n",
    "import pandas as pd\n",
    "#pandas is defines as an open-source library that provides\n",
    "#high performance data manpulation in python.\n",
    "#data analysis requires lot of processing such as restructuring,\n",
    "#cleaning,mergin,manipulatingetc... we prefer pandas to \n",
    "#perform the \n",
    "#above functionalities coz it is fast,simple than other tools.\n",
    "\n",
    "#panda is built on numpy,numpy is required for operating \n",
    "#pandas"
   ]
  },
  {
   "cell_type": "code",
   "execution_count": 128,
   "id": "054a62c6",
   "metadata": {},
   "outputs": [],
   "source": [
    "#panda series\n",
    "#pandas series is a data structure with one dimensional labelled array\n",
    "#it is a primary building block of dataframe,making its rows and columns"
   ]
  },
  {
   "cell_type": "code",
   "execution_count": 137,
   "id": "227f26b1",
   "metadata": {},
   "outputs": [],
   "source": [
    "labels=['a','b','c']\n",
    "my_data=[10,20,30]\n",
    "arr=np.array(my_data)\n",
    "d={'a':100, \"b\":200, \"c\":300}"
   ]
  },
  {
   "cell_type": "code",
   "execution_count": 136,
   "id": "f93d6887",
   "metadata": {},
   "outputs": [
    {
     "data": {
      "text/plain": [
       "0    10\n",
       "1    20\n",
       "2    30\n",
       "dtype: int64"
      ]
     },
     "execution_count": 136,
     "metadata": {},
     "output_type": "execute_result"
    }
   ],
   "source": [
    "#syntax-->pandas.Series(data=None, index=None, dtype=None, name=None,copy=True or False)\n",
    "\n",
    "#Eg:1\n",
    "import pandas as pd\n",
    "pd.Series(my_data)"
   ]
  },
  {
   "cell_type": "code",
   "execution_count": 138,
   "id": "9e8d0a47",
   "metadata": {},
   "outputs": [
    {
     "data": {
      "text/plain": [
       "pandas.core.series.Series"
      ]
     },
     "execution_count": 138,
     "metadata": {},
     "output_type": "execute_result"
    }
   ],
   "source": [
    "type(pd.Series(my_data))"
   ]
  },
  {
   "cell_type": "code",
   "execution_count": 139,
   "id": "9f127985",
   "metadata": {},
   "outputs": [
    {
     "data": {
      "text/plain": [
       "a    10\n",
       "b    20\n",
       "c    30\n",
       "dtype: int64"
      ]
     },
     "execution_count": 139,
     "metadata": {},
     "output_type": "execute_result"
    }
   ],
   "source": [
    "#Series with labels\n",
    "pd.Series(data=my_data,index=labels)"
   ]
  },
  {
   "cell_type": "code",
   "execution_count": 142,
   "id": "6521e104",
   "metadata": {},
   "outputs": [
    {
     "data": {
      "text/plain": [
       "a    10\n",
       "b    20\n",
       "c    30\n",
       "dtype: int64"
      ]
     },
     "execution_count": 142,
     "metadata": {},
     "output_type": "execute_result"
    }
   ],
   "source": [
    "#Series with labels\n",
    "#pd.Series(data=my_data,index=labels)\n",
    "#or\n",
    "pd.Series(my_data,labels)"
   ]
  },
  {
   "cell_type": "code",
   "execution_count": 141,
   "id": "a326ad6a",
   "metadata": {},
   "outputs": [
    {
     "name": "stdout",
     "output_type": "stream",
     "text": [
      "\n"
     ]
    },
    {
     "data": {
      "text/plain": [
       "0                       None\n",
       "1    <built-in function len>\n",
       "2    <built-in function sum>\n",
       "dtype: object"
      ]
     },
     "execution_count": 141,
     "metadata": {},
     "output_type": "execute_result"
    }
   ],
   "source": [
    "pd.Series(data=[print(),len,sum])"
   ]
  },
  {
   "cell_type": "code",
   "execution_count": 144,
   "id": "2ad8b632",
   "metadata": {},
   "outputs": [
    {
     "name": "stdout",
     "output_type": "stream",
     "text": [
      "my name is mag\n"
     ]
    }
   ],
   "source": [
    "class profile:\n",
    "    def display():\n",
    "        print(\"my name is mag\")\n",
    "\n",
    "p=profile\n",
    "p.display()"
   ]
  },
  {
   "cell_type": "code",
   "execution_count": 145,
   "id": "a7b8b924",
   "metadata": {},
   "outputs": [
    {
     "name": "stdout",
     "output_type": "stream",
     "text": [
      "my name is mag\n"
     ]
    }
   ],
   "source": [
    "class profile:\n",
    "    @property\n",
    "    def display(self):\n",
    "        print(\"my name is mag\")\n",
    "\n",
    "p=profile()\n",
    "p.display"
   ]
  },
  {
   "cell_type": "code",
   "execution_count": 148,
   "id": "6a136bb7",
   "metadata": {
    "scrolled": true
   },
   "outputs": [
    {
     "name": "stdout",
     "output_type": "stream",
     "text": [
      "good morning\n"
     ]
    }
   ],
   "source": [
    "#class profile:\n",
    "#     @property\n",
    "#    def display(self):\n",
    "#        print(\"my name is mag\")\n",
    "#\n",
    "#p=profile()\n",
    "#p.display\n",
    "\n",
    "def decor(func):\n",
    "    def inner():\n",
    "        str1=func()\n",
    "        return str1.upper()\n",
    "    return inner()\n",
    "       \n",
    "def greet():\n",
    "    return \"good morning\"\n",
    "print(greet())\n",
    "    "
   ]
  },
  {
   "cell_type": "code",
   "execution_count": 150,
   "id": "7b258820",
   "metadata": {},
   "outputs": [
    {
     "name": "stdout",
     "output_type": "stream",
     "text": [
      "GOOD MORNING\n"
     ]
    }
   ],
   "source": [
    "def decor(func):\n",
    "    def inner():\n",
    "        str1=func()\n",
    "        return str1.upper()\n",
    "    return inner()\n",
    "       \n",
    "def greet():\n",
    "    return \"good morning\"\n",
    "print(decor(greet))\n",
    "    "
   ]
  },
  {
   "cell_type": "code",
   "execution_count": 151,
   "id": "ef859f30",
   "metadata": {},
   "outputs": [],
   "source": [
    "#def decor(func):\n",
    "# def inner():\n",
    "# str1=func()\n",
    "# return str1.upper()\n",
    "# return inner()\n",
    "#@decor     \n",
    "#def greet():\n",
    "#    return \"good morning\"\n",
    "#print(greet())\n",
    " \n",
    "ser1=pd.Series([1,2,3,4,5],['USA',\"India\",\"Canada\",\"UK\",\"Egypt\"])"
   ]
  },
  {
   "cell_type": "code",
   "execution_count": 152,
   "id": "192553ec",
   "metadata": {},
   "outputs": [
    {
     "data": {
      "text/plain": [
       "USA       1\n",
       "India     2\n",
       "Canada    3\n",
       "UK        4\n",
       "Egypt     5\n",
       "dtype: int64"
      ]
     },
     "execution_count": 152,
     "metadata": {},
     "output_type": "execute_result"
    }
   ],
   "source": [
    "ser1"
   ]
  },
  {
   "cell_type": "code",
   "execution_count": 153,
   "id": "3cb63455",
   "metadata": {},
   "outputs": [
    {
     "data": {
      "text/plain": [
       "1"
      ]
     },
     "execution_count": 153,
     "metadata": {},
     "output_type": "execute_result"
    }
   ],
   "source": [
    "ser1['USA']"
   ]
  },
  {
   "cell_type": "code",
   "execution_count": 154,
   "id": "697fdfc3",
   "metadata": {},
   "outputs": [
    {
     "data": {
      "text/plain": [
       "USA       1\n",
       "India     2\n",
       "Canada    3\n",
       "dtype: int64"
      ]
     },
     "execution_count": 154,
     "metadata": {},
     "output_type": "execute_result"
    }
   ],
   "source": [
    "#access values using indexing\n",
    "ser1[0:3]"
   ]
  },
  {
   "cell_type": "code",
   "execution_count": 156,
   "id": "fcef8635",
   "metadata": {},
   "outputs": [],
   "source": [
    "ser2=pd.Series([5,6,7,8],['USA','Brazil',\"Canada\",\"UK\"])"
   ]
  },
  {
   "cell_type": "code",
   "execution_count": 157,
   "id": "2a9c9f3d",
   "metadata": {},
   "outputs": [
    {
     "data": {
      "text/plain": [
       "Brazil     NaN\n",
       "Canada    10.0\n",
       "Egypt      NaN\n",
       "India      NaN\n",
       "UK        12.0\n",
       "USA        6.0\n",
       "dtype: float64"
      ]
     },
     "execution_count": 157,
     "metadata": {},
     "output_type": "execute_result"
    }
   ],
   "source": [
    "ser1+ser2"
   ]
  },
  {
   "cell_type": "code",
   "execution_count": 158,
   "id": "a73869b1",
   "metadata": {},
   "outputs": [
    {
     "data": {
      "text/plain": [
       "Brazil    NaN\n",
       "Canada   -4.0\n",
       "Egypt     NaN\n",
       "India     NaN\n",
       "UK       -4.0\n",
       "USA      -4.0\n",
       "dtype: float64"
      ]
     },
     "execution_count": 158,
     "metadata": {},
     "output_type": "execute_result"
    }
   ],
   "source": [
    "ser1-ser2"
   ]
  },
  {
   "cell_type": "code",
   "execution_count": 159,
   "id": "67b4bb7e",
   "metadata": {},
   "outputs": [
    {
     "data": {
      "text/plain": [
       "USA       5\n",
       "Brazil    6\n",
       "Canada    7\n",
       "UK        8\n",
       "dtype: int64"
      ]
     },
     "execution_count": 159,
     "metadata": {},
     "output_type": "execute_result"
    }
   ],
   "source": [
    "#To create a new data in series\n",
    "ser2\n"
   ]
  },
  {
   "cell_type": "code",
   "execution_count": 160,
   "id": "913fdfa0",
   "metadata": {},
   "outputs": [],
   "source": [
    "ser2['china']=\"duplicate\""
   ]
  },
  {
   "cell_type": "code",
   "execution_count": 161,
   "id": "53864150",
   "metadata": {},
   "outputs": [
    {
     "data": {
      "text/plain": [
       "USA               5\n",
       "Brazil            6\n",
       "Canada            7\n",
       "UK                8\n",
       "china     duplicate\n",
       "dtype: object"
      ]
     },
     "execution_count": 161,
     "metadata": {},
     "output_type": "execute_result"
    }
   ],
   "source": [
    "ser2"
   ]
  },
  {
   "cell_type": "code",
   "execution_count": 162,
   "id": "c1995bb4",
   "metadata": {},
   "outputs": [
    {
     "data": {
      "text/plain": [
       "Brazil            6\n",
       "Canada            7\n",
       "UK                8\n",
       "china     duplicate\n",
       "dtype: object"
      ]
     },
     "execution_count": 162,
     "metadata": {},
     "output_type": "execute_result"
    }
   ],
   "source": [
    "ser2.drop('USA')"
   ]
  },
  {
   "cell_type": "code",
   "execution_count": 163,
   "id": "0bd4b5e0",
   "metadata": {},
   "outputs": [],
   "source": [
    "#DataFrame\n",
    "#pd.DataFrame(datas,row_label,col_label)"
   ]
  },
  {
   "cell_type": "code",
   "execution_count": 165,
   "id": "8032cffd",
   "metadata": {},
   "outputs": [],
   "source": [
    "df=pd.DataFrame(np.random.randn(5,4))"
   ]
  },
  {
   "cell_type": "code",
   "execution_count": 197,
   "id": "ed00fb69",
   "metadata": {},
   "outputs": [
    {
     "data": {
      "text/html": [
       "<div>\n",
       "<style scoped>\n",
       "    .dataframe tbody tr th:only-of-type {\n",
       "        vertical-align: middle;\n",
       "    }\n",
       "\n",
       "    .dataframe tbody tr th {\n",
       "        vertical-align: top;\n",
       "    }\n",
       "\n",
       "    .dataframe thead th {\n",
       "        text-align: right;\n",
       "    }\n",
       "</style>\n",
       "<table border=\"1\" class=\"dataframe\">\n",
       "  <thead>\n",
       "    <tr style=\"text-align: right;\">\n",
       "      <th></th>\n",
       "      <th>col1</th>\n",
       "      <th>col2</th>\n",
       "      <th>col3</th>\n",
       "    </tr>\n",
       "  </thead>\n",
       "  <tbody>\n",
       "    <tr>\n",
       "      <th>row1</th>\n",
       "      <td>1</td>\n",
       "      <td>3</td>\n",
       "      <td>5</td>\n",
       "    </tr>\n",
       "    <tr>\n",
       "      <th>row2</th>\n",
       "      <td>2</td>\n",
       "      <td>4</td>\n",
       "      <td>6</td>\n",
       "    </tr>\n",
       "  </tbody>\n",
       "</table>\n",
       "</div>"
      ],
      "text/plain": [
       "      col1  col2  col3\n",
       "row1     1     3     5\n",
       "row2     2     4     6"
      ]
     },
     "execution_count": 197,
     "metadata": {},
     "output_type": "execute_result"
    }
   ],
   "source": [
    "df"
   ]
  },
  {
   "cell_type": "code",
   "execution_count": 200,
   "id": "a0eb01da",
   "metadata": {},
   "outputs": [],
   "source": [
    "df=pd.DataFrame(np.random.randn(5,4),['A','B','C','D','E'],['W','X','Y','Z'])"
   ]
  },
  {
   "cell_type": "code",
   "execution_count": 189,
   "id": "e736e25d",
   "metadata": {},
   "outputs": [
    {
     "data": {
      "text/html": [
       "<div>\n",
       "<style scoped>\n",
       "    .dataframe tbody tr th:only-of-type {\n",
       "        vertical-align: middle;\n",
       "    }\n",
       "\n",
       "    .dataframe tbody tr th {\n",
       "        vertical-align: top;\n",
       "    }\n",
       "\n",
       "    .dataframe thead th {\n",
       "        text-align: right;\n",
       "    }\n",
       "</style>\n",
       "<table border=\"1\" class=\"dataframe\">\n",
       "  <thead>\n",
       "    <tr style=\"text-align: right;\">\n",
       "      <th></th>\n",
       "      <th>col1</th>\n",
       "      <th>col2</th>\n",
       "      <th>col3</th>\n",
       "    </tr>\n",
       "  </thead>\n",
       "  <tbody>\n",
       "    <tr>\n",
       "      <th>row1</th>\n",
       "      <td>1</td>\n",
       "      <td>3</td>\n",
       "      <td>5</td>\n",
       "    </tr>\n",
       "    <tr>\n",
       "      <th>row2</th>\n",
       "      <td>2</td>\n",
       "      <td>4</td>\n",
       "      <td>6</td>\n",
       "    </tr>\n",
       "  </tbody>\n",
       "</table>\n",
       "</div>"
      ],
      "text/plain": [
       "      col1  col2  col3\n",
       "row1     1     3     5\n",
       "row2     2     4     6"
      ]
     },
     "execution_count": 189,
     "metadata": {},
     "output_type": "execute_result"
    }
   ],
   "source": [
    "df"
   ]
  },
  {
   "cell_type": "code",
   "execution_count": 174,
   "id": "136348f7",
   "metadata": {},
   "outputs": [],
   "source": [
    "#to convert dictionary to DataFrame\n",
    "d={\"col1\":[1,2],\"col2\":[3,4],\"col3\":[5,6]}"
   ]
  },
  {
   "cell_type": "code",
   "execution_count": 175,
   "id": "250457b2",
   "metadata": {},
   "outputs": [
    {
     "data": {
      "text/plain": [
       "{'col1': [1, 2], 'col2': [3, 4], 'col3': [5, 6]}"
      ]
     },
     "execution_count": 175,
     "metadata": {},
     "output_type": "execute_result"
    }
   ],
   "source": [
    "d"
   ]
  },
  {
   "cell_type": "code",
   "execution_count": 176,
   "id": "afb8aa10",
   "metadata": {},
   "outputs": [],
   "source": [
    "df=pd.DataFrame(data=d)"
   ]
  },
  {
   "cell_type": "code",
   "execution_count": 177,
   "id": "49c6f105",
   "metadata": {},
   "outputs": [
    {
     "data": {
      "text/html": [
       "<div>\n",
       "<style scoped>\n",
       "    .dataframe tbody tr th:only-of-type {\n",
       "        vertical-align: middle;\n",
       "    }\n",
       "\n",
       "    .dataframe tbody tr th {\n",
       "        vertical-align: top;\n",
       "    }\n",
       "\n",
       "    .dataframe thead th {\n",
       "        text-align: right;\n",
       "    }\n",
       "</style>\n",
       "<table border=\"1\" class=\"dataframe\">\n",
       "  <thead>\n",
       "    <tr style=\"text-align: right;\">\n",
       "      <th></th>\n",
       "      <th>col1</th>\n",
       "      <th>col2</th>\n",
       "      <th>col3</th>\n",
       "    </tr>\n",
       "  </thead>\n",
       "  <tbody>\n",
       "    <tr>\n",
       "      <th>0</th>\n",
       "      <td>1</td>\n",
       "      <td>3</td>\n",
       "      <td>5</td>\n",
       "    </tr>\n",
       "    <tr>\n",
       "      <th>1</th>\n",
       "      <td>2</td>\n",
       "      <td>4</td>\n",
       "      <td>6</td>\n",
       "    </tr>\n",
       "  </tbody>\n",
       "</table>\n",
       "</div>"
      ],
      "text/plain": [
       "   col1  col2  col3\n",
       "0     1     3     5\n",
       "1     2     4     6"
      ]
     },
     "execution_count": 177,
     "metadata": {},
     "output_type": "execute_result"
    }
   ],
   "source": [
    "df"
   ]
  },
  {
   "cell_type": "code",
   "execution_count": 178,
   "id": "897fa67c",
   "metadata": {},
   "outputs": [],
   "source": [
    "df=pd.DataFrame(d,[\"row1\",\"row2\"])"
   ]
  },
  {
   "cell_type": "code",
   "execution_count": 179,
   "id": "5f0ddd46",
   "metadata": {},
   "outputs": [
    {
     "data": {
      "text/html": [
       "<div>\n",
       "<style scoped>\n",
       "    .dataframe tbody tr th:only-of-type {\n",
       "        vertical-align: middle;\n",
       "    }\n",
       "\n",
       "    .dataframe tbody tr th {\n",
       "        vertical-align: top;\n",
       "    }\n",
       "\n",
       "    .dataframe thead th {\n",
       "        text-align: right;\n",
       "    }\n",
       "</style>\n",
       "<table border=\"1\" class=\"dataframe\">\n",
       "  <thead>\n",
       "    <tr style=\"text-align: right;\">\n",
       "      <th></th>\n",
       "      <th>col1</th>\n",
       "      <th>col2</th>\n",
       "      <th>col3</th>\n",
       "    </tr>\n",
       "  </thead>\n",
       "  <tbody>\n",
       "    <tr>\n",
       "      <th>row1</th>\n",
       "      <td>1</td>\n",
       "      <td>3</td>\n",
       "      <td>5</td>\n",
       "    </tr>\n",
       "    <tr>\n",
       "      <th>row2</th>\n",
       "      <td>2</td>\n",
       "      <td>4</td>\n",
       "      <td>6</td>\n",
       "    </tr>\n",
       "  </tbody>\n",
       "</table>\n",
       "</div>"
      ],
      "text/plain": [
       "      col1  col2  col3\n",
       "row1     1     3     5\n",
       "row2     2     4     6"
      ]
     },
     "execution_count": 179,
     "metadata": {},
     "output_type": "execute_result"
    }
   ],
   "source": [
    "df"
   ]
  },
  {
   "cell_type": "code",
   "execution_count": 180,
   "id": "364af52c",
   "metadata": {},
   "outputs": [
    {
     "data": {
      "text/plain": [
       "Index(['row1', 'row2'], dtype='object')"
      ]
     },
     "execution_count": 180,
     "metadata": {},
     "output_type": "execute_result"
    }
   ],
   "source": [
    "df.index#syntax-->> get all the row name"
   ]
  },
  {
   "cell_type": "code",
   "execution_count": 181,
   "id": "696b5929",
   "metadata": {},
   "outputs": [
    {
     "data": {
      "text/html": [
       "<div>\n",
       "<style scoped>\n",
       "    .dataframe tbody tr th:only-of-type {\n",
       "        vertical-align: middle;\n",
       "    }\n",
       "\n",
       "    .dataframe tbody tr th {\n",
       "        vertical-align: top;\n",
       "    }\n",
       "\n",
       "    .dataframe thead th {\n",
       "        text-align: right;\n",
       "    }\n",
       "</style>\n",
       "<table border=\"1\" class=\"dataframe\">\n",
       "  <thead>\n",
       "    <tr style=\"text-align: right;\">\n",
       "      <th></th>\n",
       "      <th>col1</th>\n",
       "      <th>col2</th>\n",
       "      <th>col3</th>\n",
       "    </tr>\n",
       "  </thead>\n",
       "  <tbody>\n",
       "    <tr>\n",
       "      <th>row1</th>\n",
       "      <td>1</td>\n",
       "      <td>3</td>\n",
       "      <td>5</td>\n",
       "    </tr>\n",
       "    <tr>\n",
       "      <th>row2</th>\n",
       "      <td>2</td>\n",
       "      <td>4</td>\n",
       "      <td>6</td>\n",
       "    </tr>\n",
       "  </tbody>\n",
       "</table>\n",
       "</div>"
      ],
      "text/plain": [
       "      col1  col2  col3\n",
       "row1     1     3     5\n",
       "row2     2     4     6"
      ]
     },
     "execution_count": 181,
     "metadata": {},
     "output_type": "execute_result"
    }
   ],
   "source": [
    "df"
   ]
  },
  {
   "cell_type": "code",
   "execution_count": 183,
   "id": "5b7b0b57",
   "metadata": {},
   "outputs": [
    {
     "data": {
      "text/html": [
       "<div>\n",
       "<style scoped>\n",
       "    .dataframe tbody tr th:only-of-type {\n",
       "        vertical-align: middle;\n",
       "    }\n",
       "\n",
       "    .dataframe tbody tr th {\n",
       "        vertical-align: top;\n",
       "    }\n",
       "\n",
       "    .dataframe thead th {\n",
       "        text-align: right;\n",
       "    }\n",
       "</style>\n",
       "<table border=\"1\" class=\"dataframe\">\n",
       "  <thead>\n",
       "    <tr style=\"text-align: right;\">\n",
       "      <th></th>\n",
       "      <th>col1</th>\n",
       "      <th>col2</th>\n",
       "      <th>col3</th>\n",
       "    </tr>\n",
       "  </thead>\n",
       "  <tbody>\n",
       "    <tr>\n",
       "      <th>row1</th>\n",
       "      <td>1</td>\n",
       "      <td>3</td>\n",
       "      <td>5</td>\n",
       "    </tr>\n",
       "    <tr>\n",
       "      <th>row2</th>\n",
       "      <td>2</td>\n",
       "      <td>4</td>\n",
       "      <td>6</td>\n",
       "    </tr>\n",
       "  </tbody>\n",
       "</table>\n",
       "</div>"
      ],
      "text/plain": [
       "      col1  col2  col3\n",
       "row1     1     3     5\n",
       "row2     2     4     6"
      ]
     },
     "execution_count": 183,
     "metadata": {},
     "output_type": "execute_result"
    }
   ],
   "source": [
    "df"
   ]
  },
  {
   "cell_type": "code",
   "execution_count": 184,
   "id": "5c2580cc",
   "metadata": {},
   "outputs": [
    {
     "data": {
      "text/html": [
       "<div>\n",
       "<style scoped>\n",
       "    .dataframe tbody tr th:only-of-type {\n",
       "        vertical-align: middle;\n",
       "    }\n",
       "\n",
       "    .dataframe tbody tr th {\n",
       "        vertical-align: top;\n",
       "    }\n",
       "\n",
       "    .dataframe thead th {\n",
       "        text-align: right;\n",
       "    }\n",
       "</style>\n",
       "<table border=\"1\" class=\"dataframe\">\n",
       "  <thead>\n",
       "    <tr style=\"text-align: right;\">\n",
       "      <th></th>\n",
       "      <th>row1</th>\n",
       "      <th>row2</th>\n",
       "    </tr>\n",
       "  </thead>\n",
       "  <tbody>\n",
       "    <tr>\n",
       "      <th>col1</th>\n",
       "      <td>1</td>\n",
       "      <td>2</td>\n",
       "    </tr>\n",
       "    <tr>\n",
       "      <th>col2</th>\n",
       "      <td>3</td>\n",
       "      <td>4</td>\n",
       "    </tr>\n",
       "    <tr>\n",
       "      <th>col3</th>\n",
       "      <td>5</td>\n",
       "      <td>6</td>\n",
       "    </tr>\n",
       "  </tbody>\n",
       "</table>\n",
       "</div>"
      ],
      "text/plain": [
       "      row1  row2\n",
       "col1     1     2\n",
       "col2     3     4\n",
       "col3     5     6"
      ]
     },
     "execution_count": 184,
     "metadata": {},
     "output_type": "execute_result"
    }
   ],
   "source": [
    "df.T"
   ]
  },
  {
   "cell_type": "code",
   "execution_count": 185,
   "id": "432a2198",
   "metadata": {},
   "outputs": [
    {
     "data": {
      "text/plain": [
       "Index(['col1', 'col2', 'col3'], dtype='object')"
      ]
     },
     "execution_count": 185,
     "metadata": {},
     "output_type": "execute_result"
    }
   ],
   "source": [
    "df.columns"
   ]
  },
  {
   "cell_type": "code",
   "execution_count": 186,
   "id": "28367f88",
   "metadata": {},
   "outputs": [
    {
     "data": {
      "text/plain": [
       "pandas.core.frame.DataFrame"
      ]
     },
     "execution_count": 186,
     "metadata": {},
     "output_type": "execute_result"
    }
   ],
   "source": [
    "type(df)"
   ]
  },
  {
   "cell_type": "code",
   "execution_count": 187,
   "id": "4130d612",
   "metadata": {},
   "outputs": [
    {
     "data": {
      "text/plain": [
       "col1    int64\n",
       "col2    int64\n",
       "col3    int64\n",
       "dtype: object"
      ]
     },
     "execution_count": 187,
     "metadata": {},
     "output_type": "execute_result"
    }
   ],
   "source": [
    "df.dtypes"
   ]
  },
  {
   "cell_type": "code",
   "execution_count": 188,
   "id": "3c444ce8",
   "metadata": {},
   "outputs": [
    {
     "name": "stdout",
     "output_type": "stream",
     "text": [
      "<class 'pandas.core.frame.DataFrame'>\n",
      "Index: 2 entries, row1 to row2\n",
      "Data columns (total 3 columns):\n",
      " #   Column  Non-Null Count  Dtype\n",
      "---  ------  --------------  -----\n",
      " 0   col1    2 non-null      int64\n",
      " 1   col2    2 non-null      int64\n",
      " 2   col3    2 non-null      int64\n",
      "dtypes: int64(3)\n",
      "memory usage: 172.0+ bytes\n"
     ]
    }
   ],
   "source": [
    "df.info()"
   ]
  },
  {
   "cell_type": "code",
   "execution_count": 190,
   "id": "18005fbe",
   "metadata": {},
   "outputs": [
    {
     "data": {
      "text/plain": [
       "array([[1, 3, 5],\n",
       "       [2, 4, 6]], dtype=int64)"
      ]
     },
     "execution_count": 190,
     "metadata": {},
     "output_type": "execute_result"
    }
   ],
   "source": [
    "df.values"
   ]
  },
  {
   "cell_type": "code",
   "execution_count": 191,
   "id": "30a1c8e1",
   "metadata": {},
   "outputs": [
    {
     "data": {
      "text/plain": [
       "[Index(['row1', 'row2'], dtype='object'),\n",
       " Index(['col1', 'col2', 'col3'], dtype='object')]"
      ]
     },
     "execution_count": 191,
     "metadata": {},
     "output_type": "execute_result"
    }
   ],
   "source": [
    "df.axes"
   ]
  },
  {
   "cell_type": "code",
   "execution_count": 192,
   "id": "3afedf94",
   "metadata": {},
   "outputs": [
    {
     "data": {
      "text/plain": [
       "2"
      ]
     },
     "execution_count": 192,
     "metadata": {},
     "output_type": "execute_result"
    }
   ],
   "source": [
    "df.ndim"
   ]
  },
  {
   "cell_type": "code",
   "execution_count": 193,
   "id": "8c246db8",
   "metadata": {},
   "outputs": [
    {
     "data": {
      "text/plain": [
       "6"
      ]
     },
     "execution_count": 193,
     "metadata": {},
     "output_type": "execute_result"
    }
   ],
   "source": [
    "df.size"
   ]
  },
  {
   "cell_type": "code",
   "execution_count": 201,
   "id": "a77fb6c2",
   "metadata": {},
   "outputs": [
    {
     "data": {
      "text/html": [
       "<div>\n",
       "<style scoped>\n",
       "    .dataframe tbody tr th:only-of-type {\n",
       "        vertical-align: middle;\n",
       "    }\n",
       "\n",
       "    .dataframe tbody tr th {\n",
       "        vertical-align: top;\n",
       "    }\n",
       "\n",
       "    .dataframe thead th {\n",
       "        text-align: right;\n",
       "    }\n",
       "</style>\n",
       "<table border=\"1\" class=\"dataframe\">\n",
       "  <thead>\n",
       "    <tr style=\"text-align: right;\">\n",
       "      <th></th>\n",
       "      <th>W</th>\n",
       "      <th>X</th>\n",
       "      <th>Y</th>\n",
       "      <th>Z</th>\n",
       "    </tr>\n",
       "  </thead>\n",
       "  <tbody>\n",
       "    <tr>\n",
       "      <th>A</th>\n",
       "      <td>-3.041947</td>\n",
       "      <td>0.309321</td>\n",
       "      <td>0.605304</td>\n",
       "      <td>-0.755289</td>\n",
       "    </tr>\n",
       "    <tr>\n",
       "      <th>B</th>\n",
       "      <td>0.344300</td>\n",
       "      <td>0.879813</td>\n",
       "      <td>-0.025546</td>\n",
       "      <td>-0.231851</td>\n",
       "    </tr>\n",
       "    <tr>\n",
       "      <th>C</th>\n",
       "      <td>0.870220</td>\n",
       "      <td>-0.150307</td>\n",
       "      <td>0.834612</td>\n",
       "      <td>-0.818802</td>\n",
       "    </tr>\n",
       "    <tr>\n",
       "      <th>D</th>\n",
       "      <td>0.107928</td>\n",
       "      <td>-1.214375</td>\n",
       "      <td>0.185224</td>\n",
       "      <td>-0.429324</td>\n",
       "    </tr>\n",
       "    <tr>\n",
       "      <th>E</th>\n",
       "      <td>-1.076024</td>\n",
       "      <td>0.417467</td>\n",
       "      <td>-0.966715</td>\n",
       "      <td>0.437613</td>\n",
       "    </tr>\n",
       "  </tbody>\n",
       "</table>\n",
       "</div>"
      ],
      "text/plain": [
       "          W         X         Y         Z\n",
       "A -3.041947  0.309321  0.605304 -0.755289\n",
       "B  0.344300  0.879813 -0.025546 -0.231851\n",
       "C  0.870220 -0.150307  0.834612 -0.818802\n",
       "D  0.107928 -1.214375  0.185224 -0.429324\n",
       "E -1.076024  0.417467 -0.966715  0.437613"
      ]
     },
     "execution_count": 201,
     "metadata": {},
     "output_type": "execute_result"
    }
   ],
   "source": [
    "df"
   ]
  },
  {
   "cell_type": "code",
   "execution_count": 204,
   "id": "67322448",
   "metadata": {},
   "outputs": [
    {
     "data": {
      "text/html": [
       "<div>\n",
       "<style scoped>\n",
       "    .dataframe tbody tr th:only-of-type {\n",
       "        vertical-align: middle;\n",
       "    }\n",
       "\n",
       "    .dataframe tbody tr th {\n",
       "        vertical-align: top;\n",
       "    }\n",
       "\n",
       "    .dataframe thead th {\n",
       "        text-align: right;\n",
       "    }\n",
       "</style>\n",
       "<table border=\"1\" class=\"dataframe\">\n",
       "  <thead>\n",
       "    <tr style=\"text-align: right;\">\n",
       "      <th></th>\n",
       "      <th>W</th>\n",
       "      <th>X</th>\n",
       "      <th>Y</th>\n",
       "      <th>Z</th>\n",
       "    </tr>\n",
       "  </thead>\n",
       "  <tbody>\n",
       "    <tr>\n",
       "      <th>A</th>\n",
       "      <td>-3.041947</td>\n",
       "      <td>0.309321</td>\n",
       "      <td>0.605304</td>\n",
       "      <td>-0.755289</td>\n",
       "    </tr>\n",
       "    <tr>\n",
       "      <th>B</th>\n",
       "      <td>0.344300</td>\n",
       "      <td>0.879813</td>\n",
       "      <td>-0.025546</td>\n",
       "      <td>-0.231851</td>\n",
       "    </tr>\n",
       "    <tr>\n",
       "      <th>C</th>\n",
       "      <td>0.870220</td>\n",
       "      <td>-0.150307</td>\n",
       "      <td>0.834612</td>\n",
       "      <td>-0.818802</td>\n",
       "    </tr>\n",
       "    <tr>\n",
       "      <th>D</th>\n",
       "      <td>0.107928</td>\n",
       "      <td>-1.214375</td>\n",
       "      <td>0.185224</td>\n",
       "      <td>-0.429324</td>\n",
       "    </tr>\n",
       "    <tr>\n",
       "      <th>E</th>\n",
       "      <td>-1.076024</td>\n",
       "      <td>0.417467</td>\n",
       "      <td>-0.966715</td>\n",
       "      <td>0.437613</td>\n",
       "    </tr>\n",
       "  </tbody>\n",
       "</table>\n",
       "</div>"
      ],
      "text/plain": [
       "          W         X         Y         Z\n",
       "A -3.041947  0.309321  0.605304 -0.755289\n",
       "B  0.344300  0.879813 -0.025546 -0.231851\n",
       "C  0.870220 -0.150307  0.834612 -0.818802\n",
       "D  0.107928 -1.214375  0.185224 -0.429324\n",
       "E -1.076024  0.417467 -0.966715  0.437613"
      ]
     },
     "execution_count": 204,
     "metadata": {},
     "output_type": "execute_result"
    }
   ],
   "source": [
    "df"
   ]
  },
  {
   "cell_type": "code",
   "execution_count": 205,
   "id": "ba66166a",
   "metadata": {},
   "outputs": [
    {
     "data": {
      "text/plain": [
       "A   -3.041947\n",
       "B    0.344300\n",
       "C    0.870220\n",
       "D    0.107928\n",
       "E   -1.076024\n",
       "Name: W, dtype: float64"
      ]
     },
     "execution_count": 205,
     "metadata": {},
     "output_type": "execute_result"
    }
   ],
   "source": [
    "df['W']"
   ]
  },
  {
   "cell_type": "code",
   "execution_count": 206,
   "id": "9cc7fba0",
   "metadata": {},
   "outputs": [
    {
     "data": {
      "text/plain": [
       "pandas.core.series.Series"
      ]
     },
     "execution_count": 206,
     "metadata": {},
     "output_type": "execute_result"
    }
   ],
   "source": [
    "type(df['W'])"
   ]
  },
  {
   "cell_type": "code",
   "execution_count": 213,
   "id": "841afcb0",
   "metadata": {},
   "outputs": [
    {
     "data": {
      "text/html": [
       "<div>\n",
       "<style scoped>\n",
       "    .dataframe tbody tr th:only-of-type {\n",
       "        vertical-align: middle;\n",
       "    }\n",
       "\n",
       "    .dataframe tbody tr th {\n",
       "        vertical-align: top;\n",
       "    }\n",
       "\n",
       "    .dataframe thead th {\n",
       "        text-align: right;\n",
       "    }\n",
       "</style>\n",
       "<table border=\"1\" class=\"dataframe\">\n",
       "  <thead>\n",
       "    <tr style=\"text-align: right;\">\n",
       "      <th></th>\n",
       "      <th>W</th>\n",
       "      <th>X</th>\n",
       "      <th>Y</th>\n",
       "    </tr>\n",
       "  </thead>\n",
       "  <tbody>\n",
       "    <tr>\n",
       "      <th>A</th>\n",
       "      <td>-3.041947</td>\n",
       "      <td>0.309321</td>\n",
       "      <td>0.605304</td>\n",
       "    </tr>\n",
       "    <tr>\n",
       "      <th>B</th>\n",
       "      <td>0.344300</td>\n",
       "      <td>0.879813</td>\n",
       "      <td>-0.025546</td>\n",
       "    </tr>\n",
       "    <tr>\n",
       "      <th>C</th>\n",
       "      <td>0.870220</td>\n",
       "      <td>-0.150307</td>\n",
       "      <td>0.834612</td>\n",
       "    </tr>\n",
       "    <tr>\n",
       "      <th>D</th>\n",
       "      <td>0.107928</td>\n",
       "      <td>-1.214375</td>\n",
       "      <td>0.185224</td>\n",
       "    </tr>\n",
       "    <tr>\n",
       "      <th>E</th>\n",
       "      <td>-1.076024</td>\n",
       "      <td>0.417467</td>\n",
       "      <td>-0.966715</td>\n",
       "    </tr>\n",
       "  </tbody>\n",
       "</table>\n",
       "</div>"
      ],
      "text/plain": [
       "          W         X         Y\n",
       "A -3.041947  0.309321  0.605304\n",
       "B  0.344300  0.879813 -0.025546\n",
       "C  0.870220 -0.150307  0.834612\n",
       "D  0.107928 -1.214375  0.185224\n",
       "E -1.076024  0.417467 -0.966715"
      ]
     },
     "execution_count": 213,
     "metadata": {},
     "output_type": "execute_result"
    }
   ],
   "source": [
    "df[['W','X','Y']]"
   ]
  },
  {
   "cell_type": "code",
   "execution_count": 217,
   "id": "a28cb943",
   "metadata": {},
   "outputs": [],
   "source": [
    "#to create new columns\n",
    "df['new']=df['W']+df['Y']"
   ]
  },
  {
   "cell_type": "code",
   "execution_count": 208,
   "id": "b6263263",
   "metadata": {},
   "outputs": [
    {
     "data": {
      "text/html": [
       "<div>\n",
       "<style scoped>\n",
       "    .dataframe tbody tr th:only-of-type {\n",
       "        vertical-align: middle;\n",
       "    }\n",
       "\n",
       "    .dataframe tbody tr th {\n",
       "        vertical-align: top;\n",
       "    }\n",
       "\n",
       "    .dataframe thead th {\n",
       "        text-align: right;\n",
       "    }\n",
       "</style>\n",
       "<table border=\"1\" class=\"dataframe\">\n",
       "  <thead>\n",
       "    <tr style=\"text-align: right;\">\n",
       "      <th></th>\n",
       "      <th>W</th>\n",
       "      <th>X</th>\n",
       "      <th>Y</th>\n",
       "      <th>Z</th>\n",
       "      <th>new</th>\n",
       "    </tr>\n",
       "  </thead>\n",
       "  <tbody>\n",
       "    <tr>\n",
       "      <th>A</th>\n",
       "      <td>-3.041947</td>\n",
       "      <td>0.309321</td>\n",
       "      <td>0.605304</td>\n",
       "      <td>-0.755289</td>\n",
       "      <td>-2.436643</td>\n",
       "    </tr>\n",
       "    <tr>\n",
       "      <th>B</th>\n",
       "      <td>0.344300</td>\n",
       "      <td>0.879813</td>\n",
       "      <td>-0.025546</td>\n",
       "      <td>-0.231851</td>\n",
       "      <td>0.318754</td>\n",
       "    </tr>\n",
       "    <tr>\n",
       "      <th>C</th>\n",
       "      <td>0.870220</td>\n",
       "      <td>-0.150307</td>\n",
       "      <td>0.834612</td>\n",
       "      <td>-0.818802</td>\n",
       "      <td>1.704832</td>\n",
       "    </tr>\n",
       "    <tr>\n",
       "      <th>D</th>\n",
       "      <td>0.107928</td>\n",
       "      <td>-1.214375</td>\n",
       "      <td>0.185224</td>\n",
       "      <td>-0.429324</td>\n",
       "      <td>0.293152</td>\n",
       "    </tr>\n",
       "    <tr>\n",
       "      <th>E</th>\n",
       "      <td>-1.076024</td>\n",
       "      <td>0.417467</td>\n",
       "      <td>-0.966715</td>\n",
       "      <td>0.437613</td>\n",
       "      <td>-2.042739</td>\n",
       "    </tr>\n",
       "  </tbody>\n",
       "</table>\n",
       "</div>"
      ],
      "text/plain": [
       "          W         X         Y         Z       new\n",
       "A -3.041947  0.309321  0.605304 -0.755289 -2.436643\n",
       "B  0.344300  0.879813 -0.025546 -0.231851  0.318754\n",
       "C  0.870220 -0.150307  0.834612 -0.818802  1.704832\n",
       "D  0.107928 -1.214375  0.185224 -0.429324  0.293152\n",
       "E -1.076024  0.417467 -0.966715  0.437613 -2.042739"
      ]
     },
     "execution_count": 208,
     "metadata": {},
     "output_type": "execute_result"
    }
   ],
   "source": [
    "df"
   ]
  },
  {
   "cell_type": "code",
   "execution_count": 218,
   "id": "864cd83c",
   "metadata": {},
   "outputs": [
    {
     "data": {
      "text/html": [
       "<div>\n",
       "<style scoped>\n",
       "    .dataframe tbody tr th:only-of-type {\n",
       "        vertical-align: middle;\n",
       "    }\n",
       "\n",
       "    .dataframe tbody tr th {\n",
       "        vertical-align: top;\n",
       "    }\n",
       "\n",
       "    .dataframe thead th {\n",
       "        text-align: right;\n",
       "    }\n",
       "</style>\n",
       "<table border=\"1\" class=\"dataframe\">\n",
       "  <thead>\n",
       "    <tr style=\"text-align: right;\">\n",
       "      <th></th>\n",
       "      <th>W</th>\n",
       "      <th>X</th>\n",
       "      <th>Y</th>\n",
       "      <th>Z</th>\n",
       "    </tr>\n",
       "  </thead>\n",
       "  <tbody>\n",
       "    <tr>\n",
       "      <th>A</th>\n",
       "      <td>-3.041947</td>\n",
       "      <td>0.309321</td>\n",
       "      <td>0.605304</td>\n",
       "      <td>-0.755289</td>\n",
       "    </tr>\n",
       "    <tr>\n",
       "      <th>B</th>\n",
       "      <td>0.344300</td>\n",
       "      <td>0.879813</td>\n",
       "      <td>-0.025546</td>\n",
       "      <td>-0.231851</td>\n",
       "    </tr>\n",
       "    <tr>\n",
       "      <th>C</th>\n",
       "      <td>0.870220</td>\n",
       "      <td>-0.150307</td>\n",
       "      <td>0.834612</td>\n",
       "      <td>-0.818802</td>\n",
       "    </tr>\n",
       "    <tr>\n",
       "      <th>D</th>\n",
       "      <td>0.107928</td>\n",
       "      <td>-1.214375</td>\n",
       "      <td>0.185224</td>\n",
       "      <td>-0.429324</td>\n",
       "    </tr>\n",
       "    <tr>\n",
       "      <th>E</th>\n",
       "      <td>-1.076024</td>\n",
       "      <td>0.417467</td>\n",
       "      <td>-0.966715</td>\n",
       "      <td>0.437613</td>\n",
       "    </tr>\n",
       "  </tbody>\n",
       "</table>\n",
       "</div>"
      ],
      "text/plain": [
       "          W         X         Y         Z\n",
       "A -3.041947  0.309321  0.605304 -0.755289\n",
       "B  0.344300  0.879813 -0.025546 -0.231851\n",
       "C  0.870220 -0.150307  0.834612 -0.818802\n",
       "D  0.107928 -1.214375  0.185224 -0.429324\n",
       "E -1.076024  0.417467 -0.966715  0.437613"
      ]
     },
     "execution_count": 218,
     "metadata": {},
     "output_type": "execute_result"
    }
   ],
   "source": [
    "df.drop('new',axis=1)"
   ]
  },
  {
   "cell_type": "code",
   "execution_count": 219,
   "id": "4118e130",
   "metadata": {},
   "outputs": [
    {
     "data": {
      "text/html": [
       "<div>\n",
       "<style scoped>\n",
       "    .dataframe tbody tr th:only-of-type {\n",
       "        vertical-align: middle;\n",
       "    }\n",
       "\n",
       "    .dataframe tbody tr th {\n",
       "        vertical-align: top;\n",
       "    }\n",
       "\n",
       "    .dataframe thead th {\n",
       "        text-align: right;\n",
       "    }\n",
       "</style>\n",
       "<table border=\"1\" class=\"dataframe\">\n",
       "  <thead>\n",
       "    <tr style=\"text-align: right;\">\n",
       "      <th></th>\n",
       "      <th>W</th>\n",
       "      <th>X</th>\n",
       "      <th>Y</th>\n",
       "      <th>Z</th>\n",
       "      <th>new</th>\n",
       "    </tr>\n",
       "  </thead>\n",
       "  <tbody>\n",
       "    <tr>\n",
       "      <th>A</th>\n",
       "      <td>-3.041947</td>\n",
       "      <td>0.309321</td>\n",
       "      <td>0.605304</td>\n",
       "      <td>-0.755289</td>\n",
       "      <td>-2.436643</td>\n",
       "    </tr>\n",
       "    <tr>\n",
       "      <th>B</th>\n",
       "      <td>0.344300</td>\n",
       "      <td>0.879813</td>\n",
       "      <td>-0.025546</td>\n",
       "      <td>-0.231851</td>\n",
       "      <td>0.318754</td>\n",
       "    </tr>\n",
       "    <tr>\n",
       "      <th>C</th>\n",
       "      <td>0.870220</td>\n",
       "      <td>-0.150307</td>\n",
       "      <td>0.834612</td>\n",
       "      <td>-0.818802</td>\n",
       "      <td>1.704832</td>\n",
       "    </tr>\n",
       "    <tr>\n",
       "      <th>D</th>\n",
       "      <td>0.107928</td>\n",
       "      <td>-1.214375</td>\n",
       "      <td>0.185224</td>\n",
       "      <td>-0.429324</td>\n",
       "      <td>0.293152</td>\n",
       "    </tr>\n",
       "    <tr>\n",
       "      <th>E</th>\n",
       "      <td>-1.076024</td>\n",
       "      <td>0.417467</td>\n",
       "      <td>-0.966715</td>\n",
       "      <td>0.437613</td>\n",
       "      <td>-2.042739</td>\n",
       "    </tr>\n",
       "  </tbody>\n",
       "</table>\n",
       "</div>"
      ],
      "text/plain": [
       "          W         X         Y         Z       new\n",
       "A -3.041947  0.309321  0.605304 -0.755289 -2.436643\n",
       "B  0.344300  0.879813 -0.025546 -0.231851  0.318754\n",
       "C  0.870220 -0.150307  0.834612 -0.818802  1.704832\n",
       "D  0.107928 -1.214375  0.185224 -0.429324  0.293152\n",
       "E -1.076024  0.417467 -0.966715  0.437613 -2.042739"
      ]
     },
     "execution_count": 219,
     "metadata": {},
     "output_type": "execute_result"
    }
   ],
   "source": [
    "df"
   ]
  },
  {
   "cell_type": "code",
   "execution_count": 214,
   "id": "9e953993",
   "metadata": {},
   "outputs": [],
   "source": [
    "df.drop('new',axis=1,inplace=True)"
   ]
  },
  {
   "cell_type": "code",
   "execution_count": 215,
   "id": "185747c0",
   "metadata": {},
   "outputs": [
    {
     "data": {
      "text/html": [
       "<div>\n",
       "<style scoped>\n",
       "    .dataframe tbody tr th:only-of-type {\n",
       "        vertical-align: middle;\n",
       "    }\n",
       "\n",
       "    .dataframe tbody tr th {\n",
       "        vertical-align: top;\n",
       "    }\n",
       "\n",
       "    .dataframe thead th {\n",
       "        text-align: right;\n",
       "    }\n",
       "</style>\n",
       "<table border=\"1\" class=\"dataframe\">\n",
       "  <thead>\n",
       "    <tr style=\"text-align: right;\">\n",
       "      <th></th>\n",
       "      <th>W</th>\n",
       "      <th>X</th>\n",
       "      <th>Y</th>\n",
       "      <th>Z</th>\n",
       "    </tr>\n",
       "  </thead>\n",
       "  <tbody>\n",
       "    <tr>\n",
       "      <th>A</th>\n",
       "      <td>-3.041947</td>\n",
       "      <td>0.309321</td>\n",
       "      <td>0.605304</td>\n",
       "      <td>-0.755289</td>\n",
       "    </tr>\n",
       "    <tr>\n",
       "      <th>B</th>\n",
       "      <td>0.344300</td>\n",
       "      <td>0.879813</td>\n",
       "      <td>-0.025546</td>\n",
       "      <td>-0.231851</td>\n",
       "    </tr>\n",
       "    <tr>\n",
       "      <th>C</th>\n",
       "      <td>0.870220</td>\n",
       "      <td>-0.150307</td>\n",
       "      <td>0.834612</td>\n",
       "      <td>-0.818802</td>\n",
       "    </tr>\n",
       "    <tr>\n",
       "      <th>D</th>\n",
       "      <td>0.107928</td>\n",
       "      <td>-1.214375</td>\n",
       "      <td>0.185224</td>\n",
       "      <td>-0.429324</td>\n",
       "    </tr>\n",
       "    <tr>\n",
       "      <th>E</th>\n",
       "      <td>-1.076024</td>\n",
       "      <td>0.417467</td>\n",
       "      <td>-0.966715</td>\n",
       "      <td>0.437613</td>\n",
       "    </tr>\n",
       "  </tbody>\n",
       "</table>\n",
       "</div>"
      ],
      "text/plain": [
       "          W         X         Y         Z\n",
       "A -3.041947  0.309321  0.605304 -0.755289\n",
       "B  0.344300  0.879813 -0.025546 -0.231851\n",
       "C  0.870220 -0.150307  0.834612 -0.818802\n",
       "D  0.107928 -1.214375  0.185224 -0.429324\n",
       "E -1.076024  0.417467 -0.966715  0.437613"
      ]
     },
     "execution_count": 215,
     "metadata": {},
     "output_type": "execute_result"
    }
   ],
   "source": [
    "df"
   ]
  },
  {
   "cell_type": "code",
   "execution_count": null,
   "id": "ca5a778c",
   "metadata": {},
   "outputs": [],
   "source": []
  }
 ],
 "metadata": {
  "kernelspec": {
   "display_name": "Python 3 (ipykernel)",
   "language": "python",
   "name": "python3"
  },
  "language_info": {
   "codemirror_mode": {
    "name": "ipython",
    "version": 3
   },
   "file_extension": ".py",
   "mimetype": "text/x-python",
   "name": "python",
   "nbconvert_exporter": "python",
   "pygments_lexer": "ipython3",
   "version": "3.11.5"
  }
 },
 "nbformat": 4,
 "nbformat_minor": 5
}
